{
 "cells": [
  {
   "cell_type": "markdown",
   "metadata": {},
   "source": [
    "Basic syntax for loop + little pictures ^-^"
   ]
  },
  {
   "cell_type": "code",
   "execution_count": 1,
   "metadata": {},
   "outputs": [
    {
     "name": "stdout",
     "output_type": "stream",
     "text": [
      " /\\_/\\ \n",
      "( o.o )\n",
      " > ^ < \n"
     ]
    }
   ],
   "source": [
    "kitty = [\n",
    "    \" /\\\\_/\\\\ \",\n",
    "    \"( o.o -)\",\n",
    "    \" > ^ < \"\n",
    "]\n",
    "for row in kitty:\n",
    "    print(row)"
   ]
  },
  {
   "cell_type": "code",
   "execution_count": 2,
   "metadata": {},
   "outputs": [
    {
     "name": "stdout",
     "output_type": "stream",
     "text": [
      "  / \\__\n",
      " (    @\\___\n",
      " /         O\n",
      "/   (__ __/\n"
     ]
    }
   ],
   "source": [
    "dog = [\n",
    "    \"  / \\\\__\",\n",
    "    \" (    @\\\\___\",\n",
    "    \" /         O\",\n",
    "    \"/   (__ __/\"\n",
    "]\n",
    "\n",
    "for row in dog:\n",
    "    print(row)"
   ]
  },
  {
   "cell_type": "code",
   "execution_count": 4,
   "metadata": {},
   "outputs": [
    {
     "name": "stdout",
     "output_type": "stream",
     "text": [
      "\u001b[91m* \u001b[0m\n",
      "\u001b[93m* \u001b[92m* \u001b[0m\n",
      "\u001b[94m* \u001b[95m* \u001b[96m* \u001b[0m\n",
      "\u001b[91m* \u001b[93m* \u001b[92m* \u001b[94m* \u001b[0m\n",
      "\u001b[95m* \u001b[96m* \u001b[91m* \u001b[93m* \u001b[92m* \u001b[0m\n",
      "\u001b[94m* \u001b[95m* \u001b[96m* \u001b[91m* \u001b[93m* \u001b[92m* \u001b[0m\n",
      "\u001b[94m* \u001b[95m* \u001b[96m* \u001b[91m* \u001b[93m* \u001b[92m* \u001b[94m* \u001b[0m\n",
      "\u001b[95m* \u001b[96m* \u001b[91m* \u001b[93m* \u001b[92m* \u001b[94m* \u001b[95m* \u001b[96m* \u001b[0m\n",
      "\u001b[91m* \u001b[93m* \u001b[92m* \u001b[94m* \u001b[95m* \u001b[96m* \u001b[91m* \u001b[93m* \u001b[92m* \u001b[0m\n"
     ]
    }
   ],
   "source": [
    "\n",
    "import sys\n",
    "import itertools\n",
    "import time\n",
    "\n",
    "\n",
    "colors = itertools.cycle(['\\033[91m', '\\033[93m', '\\033[92m', '\\033[94m', '\\033[95m', '\\033[96m'])\n",
    "\n",
    "\n",
    "for i in range(1, 10):\n",
    "    for j in range(i):\n",
    "        print(next(colors) + \"* \", end=\"\")\n",
    "        sys.stdout.flush()\n",
    "        time.sleep(0.05)  \n",
    "    print(\"\\033[0m\")  "
   ]
  },
  {
   "cell_type": "code",
   "execution_count": 13,
   "metadata": {},
   "outputs": [
    {
     "name": "stdout",
     "output_type": "stream",
     "text": [
      "a\n",
      "n\n",
      "a\n",
      "c\n",
      "o\n",
      "n\n",
      "d\n",
      "a\n"
     ]
    }
   ],
   "source": [
    "word=\"anaconda\"\n",
    "for letter in word:\n",
    "\tprint (letter)\n"
   ]
  },
  {
   "cell_type": "code",
   "execution_count": 14,
   "metadata": {},
   "outputs": [
    {
     "name": "stdout",
     "output_type": "stream",
     "text": [
      "a\n",
      "n\n",
      "a\n",
      "c\n"
     ]
    }
   ],
   "source": [
    "\n",
    "for letter in word:\n",
    "\tprint(letter)\n",
    "\tif letter == \"c\":\n",
    "\t\tbreak\n"
   ]
  },
  {
   "cell_type": "code",
   "execution_count": null,
   "metadata": {},
   "outputs": [],
   "source": [
    "for letter in word :\n",
    "    if letter == \"c\":\n",
    "        continue\n",
    "    print(letter)"
   ]
  },
  {
   "cell_type": "code",
   "execution_count": 17,
   "metadata": {},
   "outputs": [
    {
     "name": "stdout",
     "output_type": "stream",
     "text": [
      "* \n",
      "* * \n",
      "* * * \n",
      "* * * * \n",
      "* * * * * \n"
     ]
    }
   ],
   "source": [
    "for i in range(1, 6):\n",
    "    for j in range(i):\n",
    "        print(\"* \", end=\"\")\n",
    "    print()"
   ]
  },
  {
   "cell_type": "markdown",
   "metadata": {},
   "source": [
    "Basic syntax for while loop: "
   ]
  },
  {
   "cell_type": "code",
   "execution_count": null,
   "metadata": {},
   "outputs": [],
   "source": [
    "count= 0\n",
    "while (count < 3):\n",
    "    count= count + 1\n",
    "    print(\"first block\")\n",
    "else: \n",
    "      print(\"second block\")"
   ]
  }
 ],
 "metadata": {
  "kernelspec": {
   "display_name": "Python 3",
   "language": "python",
   "name": "python3"
  },
  "language_info": {
   "codemirror_mode": {
    "name": "ipython",
    "version": 3
   },
   "file_extension": ".py",
   "mimetype": "text/x-python",
   "name": "python",
   "nbconvert_exporter": "python",
   "pygments_lexer": "ipython3",
   "version": "3.9.6"
  }
 },
 "nbformat": 4,
 "nbformat_minor": 2
}
